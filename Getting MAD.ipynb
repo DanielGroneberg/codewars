{
 "cells": [
  {
   "cell_type": "markdown",
   "id": "a0950146-aa3c-4054-8653-c5df75e663f3",
   "metadata": {},
   "source": [
    "Getting the Minimum Absolute Difference\n",
    "Task\n",
    "\n",
    "Given an array of integers with at least 2 elements: a1, a2, a3, a4, ... aN\n",
    "\n",
    "The absolute difference between two array elements ai and aj, where i != j, is the absolute value of ai - aj.\n",
    "\n",
    "Return the minimum absolute difference (MAD) between any two elements in the array.\n",
    "Example\n",
    "\n",
    "For [-10, 0, -3, 1]\n",
    "\n",
    "the MAD is 1.\n",
    "\n",
    "Explanation:\n",
    "\n",
    "    | -10 -    0  | = 10\n",
    "    | -10 -  (-3) | =  7\n",
    "    | -10 -    1  | = 11\n",
    "    |   0 - (-10) | = 10\n",
    "    |   0 -  (-3) | =  3\n",
    "    |   0 -    1  | =  1\n",
    "    |  -3 - (-10) | =  7\n",
    "    |  -3 -    0  | =  3\n",
    "    |  -3 -    1  | =  4\n",
    "    |   1 - (-10) | = 11\n",
    "    |   1 -    0  | =  1\n",
    "    |   1 -  (-3) | =  4\n",
    "\n",
    "The minimum value is 1 ( both | 0 - 1 | and | 1 - 0 | ).\n",
    "Note\n",
    "\n",
    "Note that the same value can appear more than once in the array. In that case, the MAD will be 0."
   ]
  },
  {
   "cell_type": "markdown",
   "id": "0a93ee7f-aa1a-4211-ac92-76c0a7b009c9",
   "metadata": {},
   "source": [
    "--------------------------\n",
    "\n",
    "So basically, I need to iterate through each possibility of ai - a(i+n), i.e. start from the first item in the array and subtract it from the second until I rech the end of the array. Then I start with the second item in the array and iterate through to the end, etc. The thing is though:"
   ]
  },
  {
   "cell_type": "markdown",
   "id": "3b8aa915-5f9f-4c6f-aee0-12b31556b79a",
   "metadata": {},
   "source": []
  },
  {
   "cell_type": "code",
   "execution_count": 2,
   "id": "c776cb74-45de-49bb-9fb4-6f960a089ce8",
   "metadata": {},
   "outputs": [
    {
     "data": {
      "text/plain": [
       "3"
      ]
     },
     "execution_count": 2,
     "metadata": {},
     "output_type": "execute_result"
    }
   ],
   "source": [
    "abs(6-3)"
   ]
  },
  {
   "cell_type": "code",
   "execution_count": 3,
   "id": "97e90cb0-a5ca-44dd-9aa8-007e73f67d15",
   "metadata": {},
   "outputs": [
    {
     "data": {
      "text/plain": [
       "3"
      ]
     },
     "execution_count": 3,
     "metadata": {},
     "output_type": "execute_result"
    }
   ],
   "source": [
    "abs(3-6)"
   ]
  },
  {
   "cell_type": "markdown",
   "id": "55e71f15-f733-432c-99a1-e9d63f432a59",
   "metadata": {},
   "source": [
    "It doesn't actually matter whether you subtract the first item from the last, or the last item from the first in terms of absolute value."
   ]
  },
  {
   "cell_type": "markdown",
   "id": "a5c35d9f-6eb3-46c1-a995-8a46b8e43ec3",
   "metadata": {},
   "source": [
    "So for the array `[-10, 0, -3, 1]`, I need to make sure I only do `abs(-10 - 1)` and not also `abs(1 - (-10))`"
   ]
  },
  {
   "cell_type": "markdown",
   "id": "0e0c8135-8ea3-4070-aaa3-23187b05c22d",
   "metadata": {},
   "source": [
    "When I start the iteration with -10 and start subtracting through, each subtraction will be new and useful. But once I move over to 0, subtracting -10 will be redundant. I actually need to move over two spaces and start with `abs(0 - (-3))`"
   ]
  },
  {
   "cell_type": "markdown",
   "id": "f35d7ee5-bb75-4f35-913f-0575dc0594d3",
   "metadata": {},
   "source": [
    "And then once I move over to start subtracting from -3, I've already subtracted with -10 and 0, so I need to move on directly to 1, which I haven't used yet. But once I start subtracting from 1, I've already done all of these calculations."
   ]
  },
  {
   "cell_type": "markdown",
   "id": "5a945fc0-184a-4434-99f3-b5eebbcc93f4",
   "metadata": {},
   "source": [
    "So, if we think of `abs(ai - aj)`, `i` needs to progress by 1 each time, until `array[:-1]`, since the last item will always be redundant for i, since these calculations have been done already. `j` should always start as `i+1`., but obviously, `j` should only go until the last item in the array."
   ]
  },
  {
   "cell_type": "code",
   "execution_count": 47,
   "id": "56ffef8c-62ad-4747-9a7f-521e2b8dac02",
   "metadata": {},
   "outputs": [],
   "source": [
    "def getting_mad(arr):\n",
    "    for i in range(len(arr) - 1):\n",
    "        for j in range(i + 1, len(arr)):\n",
    "            print(f\"i,j: {i,j}\")"
   ]
  },
  {
   "cell_type": "code",
   "execution_count": 48,
   "id": "ac603c18-bbdb-450d-92c9-4ae714d75500",
   "metadata": {},
   "outputs": [
    {
     "name": "stdout",
     "output_type": "stream",
     "text": [
      "i,j: (0, 1)\n",
      "i,j: (0, 2)\n",
      "i,j: (0, 3)\n",
      "i,j: (1, 2)\n",
      "i,j: (1, 3)\n",
      "i,j: (2, 3)\n"
     ]
    }
   ],
   "source": [
    "getting_mad([-10, 0, -3, 1])"
   ]
  },
  {
   "cell_type": "markdown",
   "id": "12f589dd-553c-4740-8bd1-d557a0b9bb66",
   "metadata": {},
   "source": [
    "This basic concept seems to be working now. We start with i = 0 i.e. `-10` and move through the other two options. By the time i = 2, the only option for j is 3 i.e. `1`. More importantly, there should only be 6 total results, which there are here."
   ]
  },
  {
   "cell_type": "code",
   "execution_count": 55,
   "id": "c6d59c4b-9170-4670-b46c-fe98fd50b216",
   "metadata": {},
   "outputs": [],
   "source": [
    "def getting_mad(arr):\n",
    "    results = []\n",
    "    for i in range(len(arr) - 1):\n",
    "        for j in range(i + 1, len(arr)):\n",
    "            results.append(abs(arr[i] - arr[j]))\n",
    "    return min(results)"
   ]
  },
  {
   "cell_type": "code",
   "execution_count": 56,
   "id": "13ed8a0b-eaf6-47f4-be5e-bfedcfee8368",
   "metadata": {},
   "outputs": [
    {
     "data": {
      "text/plain": [
       "1"
      ]
     },
     "execution_count": 56,
     "metadata": {},
     "output_type": "execute_result"
    }
   ],
   "source": [
    "getting_mad([-10, 0, -3, 1])"
   ]
  },
  {
   "cell_type": "markdown",
   "id": "382b3693-cb93-4ffe-8ff2-f25f65eb6861",
   "metadata": {},
   "source": [
    "Apparently there are much more concise ways of doing this using sorted lists, .zip(), etc."
   ]
  }
 ],
 "metadata": {
  "kernelspec": {
   "display_name": "Python 3 (ipykernel)",
   "language": "python",
   "name": "python3"
  },
  "language_info": {
   "codemirror_mode": {
    "name": "ipython",
    "version": 3
   },
   "file_extension": ".py",
   "mimetype": "text/x-python",
   "name": "python",
   "nbconvert_exporter": "python",
   "pygments_lexer": "ipython3",
   "version": "3.10.9"
  }
 },
 "nbformat": 4,
 "nbformat_minor": 5
}
