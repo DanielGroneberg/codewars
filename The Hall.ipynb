{
 "cells": [
  {
   "cell_type": "markdown",
   "id": "d88a7564-6108-4028-a5f2-32c9d424a01d",
   "metadata": {},
   "source": [
    "The Hall\n",
    "\n",
    "You are a servant in The Great Hall of Ghosts. The purpose of this hall is to hold the Day of Passing ceremony in honor of the deceased members of your society. The hall was carved directly out of the mountain rock to house a majestic square Grand Table surrounded by twelve magnificent seats. Each corner of the hall is adorned by one of the four Culturally Significant Features. Going clockwise around the table, they are; a comforting arrangement of earthenware holding exotic plants in lucious soil, a natural waterfall of gentle sounds and sweet moisture, a roaring fireplace of tremendous warmth, and a breezy windowsill open to the freshest of air.\n",
    "\n",
    "    Earthenware                            Waterfall\n",
    "    \n",
    "         ( __1__ ) ( __2__ ) ( __3__ ) ( __4__ )\n",
    "    \n",
    "         ( _12__ )                     ( __5__ )\n",
    "    \n",
    "         ( _11__ )                     ( __6__ )\n",
    "    \n",
    "         ( _10__ ) ( __9__ ) ( __8__ ) ( __7__ )\n",
    "    \n",
    "     Windowsill                             Fireplace\n",
    "\n",
    "**The Dead**\n",
    "\n",
    "Every morning, The Elders give you a List of the Dead representing people who throughout the past had died on that date, although a person's name is only included on the list if living members of society have made any donations in their name for this year.\n",
    "    \n",
    "**Your Task**\n",
    "\n",
    "The obligation in service to which you are assigned in the Great Hall is to set out the places in preparation for the ceremonial dinner at the Grand Table every evening, and the most important part of this task is to figure out exactly which ghosts should sit at which seats amongst the twelve!\n",
    "\n",
    "The seating arrangement will be based on the order in which they appear on your list and the most favored Culturally Significant Feature of each particular ghost. Their favorite feature is devised by using the initial letter of their name and the Four Ancient Names of the corner features:\n",
    "\n",
    "    they favor Earthenware if their first initial is one of the letters in the name \"QUTHCRDMZ\"\n",
    "    they favor Waterfall if their first initial is one of the letters in the name \"WEVOXING\"\n",
    "    they favor Fireplace if their first initial is one of the letters in the name \"JFABKPLY\"\n",
    "    they favor Windowsill if their first initial is one of the letters in the name \"SSSSSSSSS\"\n",
    "\n",
    "For the names on the list, one at a time, they each get an opportunity to be seated as close as possible to the corner they desire the most. Whenever there are two seats that are equidistant from the preferred corner seat, the ghost will always take the seat which is counter-clockwise to that corner.\n",
    "\n",
    "As the table gradually fills up, those later on the list will have fewer and notably less attractive seating options from which to choose.\n",
    "\n",
    "Depending on how many names made the list this year, there will often be days when there are too many ghosts to be seated, and only the first twelve can be seated. On other days there could be a number of empty seats if there were fewer applicants. In this case, those empty seats should be represented by a string of five underscores (\"_____\") in lieu of the name of a ghost.\n",
    "An Example\n",
    "\n",
    "Given this List of the Dead to be tasked with seating the Grand Table:\n",
    "\n",
    "the_dead = ['Yojne', 'Xenna', 'Verap', 'Ebyam', 'Teseb', 'Ycuag', 'Onets', 'Skcaw', 'Yrovi', 'Tpets', 'Lizuf', 'Girnu']\n",
    "\n",
    "The first name on the list is Yojne. Because their name starts with the letter Y, they are of the JFABKPLY clan and therefore want to sit as close as possible to the Fireplace. As the table is completely empty, they will get their first choice, and be assigned to Seat 7:\n",
    "\n",
    "    Earthenware                            Waterfall\n",
    "    \n",
    "         ( __1__ ) ( __2__ ) ( __3__ ) ( __4__ )\n",
    "    \n",
    "         ( _12__ )                     ( __5__ )\n",
    "    \n",
    "         ( _11__ )                     ( __6__ )\n",
    "    \n",
    "         ( _10__ ) ( __9__ ) ( __8__ ) ( Yojne )\n",
    "    \n",
    "     Windowsill                             Fireplace\n",
    "\n",
    "Next on the list is Xenna, who with the first letter X hails from the WEVOXING family and thus favors the Waterfall, and they also get their first choice in Seat 4:\n",
    "\n",
    "    Earthenware                            Waterfall\n",
    "    \n",
    "         ( __1__ ) ( __2__ ) ( __3__ ) ( Xenna )\n",
    "    \n",
    "         ( _12__ )                     ( __5__ )\n",
    "    \n",
    "         ( _11__ )                     ( __6__ )\n",
    "    \n",
    "         ( _10__ ) ( __9__ ) ( __8__ ) ( Yojne )\n",
    "    \n",
    "     Windowsill                             Fireplace\n",
    "\n",
    "Third on the list is Verap, who also has the Waterfall as their favorite feature, but since Xenna is sitting in the corner seat, Verap will have to take the next best option, which is a seat nearest to that corner.\n",
    "\n",
    "Here we have a case of two equidistant options; the two seats that are closest to the Waterfall are Seat 3 and Seat 5. Verap's ghost will be seated at Seat 3 because it is counter-clockwise from Seat 4 in the corner:\n",
    "\n",
    "    Earthenware                            Waterfall\n",
    "    \n",
    "         ( __1__ ) ( __2__ ) ( Verap ) ( Xenna )\n",
    "    \n",
    "         ( _12__ )                     ( __5__ )\n",
    "    \n",
    "         ( _11__ )                     ( __6__ )\n",
    "    \n",
    "         ( _10__ ) ( __9__ ) ( __8__ ) ( Yojne )\n",
    "    \n",
    "     Windowsill                             Fireplace\n",
    "\n",
    "Fourth in order we get Ebyam, and in also favoring the Waterfall, takes Seat 5:\n",
    "\n",
    "    Earthenware                            Waterfall\n",
    "    \n",
    "         ( __1__ ) ( __2__ ) ( Verap ) ( Xenna )\n",
    "    \n",
    "         ( _12__ )                     ( Ebyam )\n",
    "    \n",
    "         ( _11__ )                     ( __6__ )\n",
    "    \n",
    "         ( _10__ ) ( __9__ ) ( __8__ ) ( Yojne )\n",
    "    \n",
    "     Windowsill                             Fireplace\n",
    "\n",
    "Fifth is Teseb of the QUTHCRDMZ leaning, and easily takes the Earthenware corner seat:\n",
    "\n",
    "    Earthenware                            Waterfall\n",
    "    \n",
    "         ( Teseb ) ( __2__ ) ( Verap ) ( Xenna )\n",
    "    \n",
    "         ( _12__ )                     ( Ebyam )\n",
    "    \n",
    "         ( _11__ )                     ( __6__ )\n",
    "    \n",
    "         ( _10__ ) ( __9__ ) ( __8__ ) ( Yojne )\n",
    "    \n",
    "     Windowsill                             Fireplace\n",
    "\n",
    "Sixth is Ycuag who will want to be near the Fireplace, so they take Seat 6:\n",
    "\n",
    "    Earthenware                            Waterfall\n",
    "    \n",
    "         ( Teseb ) ( __2__ ) ( Verap ) ( Xenna )\n",
    "    \n",
    "         ( _12__ )                     ( Ebyam )\n",
    "    \n",
    "         ( _11__ )                     ( Ycuag )\n",
    "    \n",
    "         ( _10__ ) ( __9__ ) ( __8__ ) ( Yojne )\n",
    "    \n",
    "     Windowsill                             Fireplace\n",
    "\n",
    "Onets comes along in seventh place and also favors the very popular Waterfall. They take the best choice remaining which is Seat 2:\n",
    "\n",
    "    Earthenware                            Waterfall\n",
    "    \n",
    "         ( Teseb ) ( Onets ) ( Verap ) ( Xenna )\n",
    "    \n",
    "         ( _12__ )                     ( Ebyam )\n",
    "    \n",
    "         ( _11__ )                     ( Ycuag )\n",
    "    \n",
    "         ( _10__ ) ( __9__ ) ( __8__ ) ( Yojne )\n",
    "    \n",
    "     Windowsill                             Fireplace\n",
    "\n",
    "At last, we get a member of the Windowsill fan club in eighth place. Skcaw readily takes that corner at Seat 10:\n",
    "\n",
    "    Earthenware                            Waterfall\n",
    "    \n",
    "         ( Teseb ) ( Onets ) ( Verap ) ( Xenna )\n",
    "    \n",
    "         ( _12__ )                     ( Ebyam )\n",
    "    \n",
    "         ( _11__ )                     ( Ycuag )\n",
    "    \n",
    "         ( Skcaw ) ( __9__ ) ( __8__ ) ( Yojne )\n",
    "    \n",
    "     Windowsill                             Fireplace\n",
    "\n",
    "Ninth appears Yrovi, who wants to be near the Fireplace, and takes Seat 8:\n",
    "\n",
    "    Earthenware                            Waterfall\n",
    "    \n",
    "         ( Teseb ) ( Onets ) ( Verap ) ( Xenna )\n",
    "    \n",
    "         ( _12__ )                     ( Ebyam )\n",
    "    \n",
    "         ( _11__ )                     ( Ycuag )\n",
    "    \n",
    "         ( Skcaw ) ( __9__ ) ( Yrovi ) ( Yojne )\n",
    "    \n",
    "     Windowsill                             Fireplace\n",
    "\n",
    "Tpets in ten place is an Earthenware acolyte, and takes the closest place next to that corner at Seat 12:\n",
    "\n",
    "    Earthenware                            Waterfall\n",
    "    \n",
    "         ( Teseb ) ( Onets ) ( Verap ) ( Xenna )\n",
    "    \n",
    "         ( Tpets )                     ( Ebyam )\n",
    "    \n",
    "         ( _11__ )                     ( Ycuag )\n",
    "    \n",
    "         ( Skcaw ) ( __9__ ) ( Yrovi ) ( Yojne )\n",
    "    \n",
    "     Windowsill                             Fireplace\n",
    "\n",
    "In eleventh place we get Lizuf, with only two places to choose from, takes Seat 9:\n",
    "\n",
    "    Earthenware                            Waterfall\n",
    "    \n",
    "         ( Teseb ) ( Onets ) ( Verap ) ( Xenna )\n",
    "    \n",
    "         ( Tpets )                     ( Ebyam )\n",
    "    \n",
    "         ( _11__ )                     ( Ycuag )\n",
    "    \n",
    "         ( Skcaw ) ( Lizuf ) ( Yrovi ) ( Yojne )\n",
    "    \n",
    "     Windowsill                             Fireplace\n",
    "\n",
    "The final ghost coming in at twelfth place is Girnu, yet another ghost wanting to be near the Waterfall, but they are too late on the list to get a seat close to that corner, and must be satisfied to even be at the table in Seat 11:\n",
    "\n",
    "    Earthenware                            Waterfall\n",
    "    \n",
    "         ( Teseb ) ( Onets ) ( Verap ) ( Xenna )\n",
    "    \n",
    "         ( Tpets )                     ( Ebyam )\n",
    "    \n",
    "         ( Girnu )                     ( Ycuag )\n",
    "    \n",
    "         ( Skcaw ) ( Lizuf ) ( Yrovi ) ( Yojne )\n",
    "    \n",
    "     Windowsill                             Fireplace\n",
    "\n",
    "The table now being completely sat, we end up with a final seating arrangement in the form of a list taking the seats from the top left corner and going clockwise through the twelve seats:\n",
    "\n",
    "`seating = ['Teseb', 'Onets', 'Verap', 'Xenna', 'Ebyam', 'Ycuag', 'Yojne', 'Yrovi', 'Lizuf', 'Skcaw', 'Girnu', 'Tpets']`\n",
    "\n",
    "*Input*\n",
    "\n",
    "`A list (0 <= size <= 18) of names (each size == 5 chars long).`\n",
    "\n",
    "*Output*\n",
    "\n",
    "`A list (always size == 12) of names (or placeholders: \"_____\" ), representing the final seating arrangement.`\n",
    "\n",
    "Enjoy!"
   ]
  },
  {
   "cell_type": "markdown",
   "id": "c483c26d-ac6b-4c43-884b-f128e5eaf634",
   "metadata": {},
   "source": [
    "--------\n"
   ]
  },
  {
   "cell_type": "markdown",
   "id": "8b3f0c1d-196b-4de0-a599-bfab9a6567b7",
   "metadata": {},
   "source": [
    "Someone clearly put a lot of thought into this one. It reminds me of a basic 1980s text game."
   ]
  },
  {
   "cell_type": "markdown",
   "id": "96f5e262-950e-42f0-be84-a35c84d41606",
   "metadata": {},
   "source": [
    "I think the simplest thing would be to break the square seating format into a line and assign the square format\n",
    "\n",
    "    Earthenware                            Waterfall\n",
    "\n",
    "         (0)         (1)         (2)         (3)\n",
    "    \n",
    "         (11)                                (4)\n",
    "    \n",
    "         (10)                                (5)\n",
    "    \n",
    "         (9)         (8)         (7)         (6)\n",
    "\n",
    "    Windowsill                             Fireplace\n",
    "\n",
    "To a list:\n",
    "\n",
    "    Seating map:\n",
    "        0 - Earthenware corner\n",
    "        1\n",
    "        2\n",
    "        3 - Waterfall corner\n",
    "        4\n",
    "        5\n",
    "        6 - Fireplace corner\n",
    "        7\n",
    "        8\n",
    "        9 - Windowsill corner\n",
    "        10\n",
    "        11"
   ]
  },
  {
   "cell_type": "markdown",
   "id": "329f67d7-6f79-4bcb-be50-ecdf232644a6",
   "metadata": {},
   "source": [
    "But then, there's also a logic, where if a seat is taken, there is a way of figuring out which seat is the next most preferable. The preferred seat is always counter-clockwise to the corner. If that seat is also taken, then then the clockwise seat is chosen since it's the same distance from the corner."
   ]
  },
  {
   "cell_type": "markdown",
   "id": "281568e9-4a13-4c62-b810-e591d7ae3b62",
   "metadata": {},
   "source": [
    "So if seat 4 was taken, the next best options are 3 followed by 5. Both are an absolute distance of 1 from seat 4."
   ]
  },
  {
   "cell_type": "markdown",
   "id": "aa464720-8e93-4bb3-ac0e-f90ed693700b",
   "metadata": {},
   "source": [
    "The best approach might be to go through the list of names and:\n",
    "\n",
    "    1. Figure out which corner to attempt to seat the ghost in\n",
    "    2. Attept to seat them in seat 1, 3, 6 or 9\n",
    "    3. If that seat is full, seat them in seat (0, 3, 6 or 9) -i with i being innitially equal to 1 i.e. the counter-clockwise seat\n",
    "    4. If this doesn't work, try seating them in seat (0, 3, 6 or 9) +i with i still being equal to 1\n",
    "    5. If this still doesn't work, move on to i=2\n",
    "    6. Once this ghost is sat, move on to the next name in the list\n",
    "    7. If the names on the list or available seats run out (whichever comes first) either print out the seating chart, or print out empty spaces"
   ]
  },
  {
   "cell_type": "code",
   "execution_count": 4,
   "id": "5edb3bca-1756-4959-8834-fdc537d7effc",
   "metadata": {},
   "outputs": [
    {
     "data": {
      "text/plain": [
       "'test'"
      ]
     },
     "execution_count": 4,
     "metadata": {},
     "output_type": "execute_result"
    }
   ],
   "source": [
    "def set_table(the_dead):\n",
    "    \n",
    "    earth = \"QUTHCRDMZ\"\n",
    "    water = \"WEVOXING\"\n",
    "    fire = \"JFABKPLY\"\n",
    "    window = \"SSSSSSSSS\"\n",
    "\n",
    "    if the_dead[0] in earth:\n",
    "        return 'test'\n",
    "\n",
    "set_table('Q')"
   ]
  },
  {
   "cell_type": "markdown",
   "id": "66ee7c69-b465-4f43-9562-9886152bb3dd",
   "metadata": {},
   "source": [
    "Now I have to make it handle a list of up to 18 names:"
   ]
  },
  {
   "cell_type": "code",
   "execution_count": 41,
   "id": "17a8b6f2-e21c-40ea-a86e-6ed91056ab84",
   "metadata": {},
   "outputs": [
    {
     "data": {
      "text/plain": [
       "['0', 'Q', 'Q', '0', '0', '0', '0', '0', '0', '0', '0', '0']"
      ]
     },
     "execution_count": 41,
     "metadata": {},
     "output_type": "execute_result"
    }
   ],
   "source": [
    "def set_table(the_dead):\n",
    "    \n",
    "    earth = \"QUTHCRDMZ\"\n",
    "    water = \"WEVOXING\"\n",
    "    fire = \"JFABKPLY\"\n",
    "    window = \"SSSSSSSSS\"\n",
    "    # assigning the seating to initially be zeroes, which I can check against\n",
    "    seating = ['0'] * 12\n",
    "\n",
    "    if len(the_dead) < 19:\n",
    "        for i in range(len(the_dead)):\n",
    "            # creating a value to store the ideal seat based on first letter in name\n",
    "            # this will be updated based on whether the seat is filled\n",
    "            seat = 0\n",
    "            if the_dead[i][0] in earth:\n",
    "                seat = 1\n",
    "            elif the_dead[i][0] in water:\n",
    "                seat = 4\n",
    "            elif the_dead[i][0] in fire:\n",
    "                seat = 7\n",
    "            elif the_dead[i][0] in window:\n",
    "                seat = 10\n",
    "            else:\n",
    "                # this will prevent the seat from remaining assigned as 0\n",
    "                return \"Error\"\n",
    "\n",
    "\n",
    "            if seating[seat] == '0': # if the preferred seat is == 0 i.e. empty\n",
    "                    seating[seat] = the_dead[i] # assign that name to the empty seat\n",
    "            else: \n",
    "                seated = 0 # they haven't been seated yet\n",
    "                counter = 0\n",
    "                while seated == 0: # keep trying to seat them until they have been seated\n",
    "                    counter += 1 # update the counter for each failed seating attempt\n",
    "                    if seating[seat + counter] == '0': # if the counter-clockwise seat is not filled\n",
    "                        seating[seat + counter] = the_dead[i] # assign that name to the empty seat\n",
    "                        seated = 1 # stop the loop; the ghost has been seated\n",
    "                    elif seating[seat - counter] == '0': # if the clockwise seat is not filled\n",
    "                        seating[seat - counter] = the_dead[i]\n",
    "                        seated = 1\n",
    "                    else:\n",
    "                        counter += 1 # try again with an additional seat distance\n",
    "                    \n",
    "    else:\n",
    "        return \"Error\"\n",
    "\n",
    "    return seating\n",
    "\n",
    "set_table(['Q','Q'])"
   ]
  },
  {
   "cell_type": "code",
   "execution_count": 48,
   "id": "2598374a-0f13-4e23-8b7d-e9d5822efa71",
   "metadata": {},
   "outputs": [
    {
     "ename": "IndexError",
     "evalue": "list index out of range",
     "output_type": "error",
     "traceback": [
      "\u001b[1;31m---------------------------------------------------------------------------\u001b[0m",
      "\u001b[1;31mIndexError\u001b[0m                                Traceback (most recent call last)",
      "Cell \u001b[1;32mIn[48], line 1\u001b[0m\n\u001b[1;32m----> 1\u001b[0m \u001b[43mset_table\u001b[49m\u001b[43m(\u001b[49m\u001b[43m[\u001b[49m\u001b[38;5;124;43m'\u001b[39;49m\u001b[38;5;124;43mSkcaw\u001b[39;49m\u001b[38;5;124;43m'\u001b[39;49m\u001b[43m,\u001b[49m\u001b[43m \u001b[49m\u001b[38;5;124;43m'\u001b[39;49m\u001b[38;5;124;43mTeseb\u001b[39;49m\u001b[38;5;124;43m'\u001b[39;49m\u001b[43m,\u001b[49m\u001b[43m \u001b[49m\u001b[38;5;124;43m'\u001b[39;49m\u001b[38;5;124;43mOnets\u001b[39;49m\u001b[38;5;124;43m'\u001b[39;49m\u001b[43m,\u001b[49m\u001b[43m \u001b[49m\u001b[38;5;124;43m'\u001b[39;49m\u001b[38;5;124;43mLizuf\u001b[39;49m\u001b[38;5;124;43m'\u001b[39;49m\u001b[43m,\u001b[49m\u001b[43m \u001b[49m\u001b[38;5;124;43m'\u001b[39;49m\u001b[38;5;124;43mEbyam\u001b[39;49m\u001b[38;5;124;43m'\u001b[39;49m\u001b[43m,\u001b[49m\u001b[43m \u001b[49m\u001b[38;5;124;43m'\u001b[39;49m\u001b[38;5;124;43mYojne\u001b[39;49m\u001b[38;5;124;43m'\u001b[39;49m\u001b[43m,\u001b[49m\u001b[43m \u001b[49m\u001b[38;5;124;43m'\u001b[39;49m\u001b[38;5;124;43mYrovi\u001b[39;49m\u001b[38;5;124;43m'\u001b[39;49m\u001b[43m,\u001b[49m\u001b[43m \u001b[49m\u001b[38;5;124;43m'\u001b[39;49m\u001b[38;5;124;43mXenna\u001b[39;49m\u001b[38;5;124;43m'\u001b[39;49m\u001b[43m,\u001b[49m\u001b[43m \u001b[49m\u001b[38;5;124;43m'\u001b[39;49m\u001b[38;5;124;43mGirnu\u001b[39;49m\u001b[38;5;124;43m'\u001b[39;49m\u001b[43m,\u001b[49m\u001b[43m \u001b[49m\u001b[38;5;124;43m'\u001b[39;49m\u001b[38;5;124;43mYcuag\u001b[39;49m\u001b[38;5;124;43m'\u001b[39;49m\u001b[43m,\u001b[49m\u001b[43m \u001b[49m\u001b[38;5;124;43m'\u001b[39;49m\u001b[38;5;124;43mTpets\u001b[39;49m\u001b[38;5;124;43m'\u001b[39;49m\u001b[43m,\u001b[49m\u001b[43m \u001b[49m\u001b[38;5;124;43m'\u001b[39;49m\u001b[38;5;124;43mVerap\u001b[39;49m\u001b[38;5;124;43m'\u001b[39;49m\u001b[43m]\u001b[49m\u001b[43m)\u001b[49m\n",
      "Cell \u001b[1;32mIn[41], line 35\u001b[0m, in \u001b[0;36mset_table\u001b[1;34m(the_dead)\u001b[0m\n\u001b[0;32m     33\u001b[0m \u001b[38;5;28;01mwhile\u001b[39;00m seated \u001b[38;5;241m==\u001b[39m \u001b[38;5;241m0\u001b[39m: \u001b[38;5;66;03m# keep trying to seat them until they have been seated\u001b[39;00m\n\u001b[0;32m     34\u001b[0m     counter \u001b[38;5;241m+\u001b[39m\u001b[38;5;241m=\u001b[39m \u001b[38;5;241m1\u001b[39m \u001b[38;5;66;03m# update the counter for each failed seating attempt\u001b[39;00m\n\u001b[1;32m---> 35\u001b[0m     \u001b[38;5;28;01mif\u001b[39;00m \u001b[43mseating\u001b[49m\u001b[43m[\u001b[49m\u001b[43mseat\u001b[49m\u001b[43m \u001b[49m\u001b[38;5;241;43m+\u001b[39;49m\u001b[43m \u001b[49m\u001b[43mcounter\u001b[49m\u001b[43m]\u001b[49m \u001b[38;5;241m==\u001b[39m \u001b[38;5;124m'\u001b[39m\u001b[38;5;124m0\u001b[39m\u001b[38;5;124m'\u001b[39m: \u001b[38;5;66;03m# if the counter-clockwise seat is not filled\u001b[39;00m\n\u001b[0;32m     36\u001b[0m         seating[seat \u001b[38;5;241m+\u001b[39m counter] \u001b[38;5;241m=\u001b[39m the_dead[i] \u001b[38;5;66;03m# assign that name to the empty seat\u001b[39;00m\n\u001b[0;32m     37\u001b[0m         seated \u001b[38;5;241m=\u001b[39m \u001b[38;5;241m1\u001b[39m \u001b[38;5;66;03m# stop the loop; the ghost has been seated\u001b[39;00m\n",
      "\u001b[1;31mIndexError\u001b[0m: list index out of range"
     ]
    }
   ],
   "source": [
    "# using a scrambled up list of the names provided\n",
    "set_table(['Skcaw', 'Teseb', 'Onets', 'Lizuf', 'Ebyam', 'Yojne', 'Yrovi', 'Xenna', 'Girnu', 'Ycuag', 'Tpets', 'Verap'])"
   ]
  },
  {
   "cell_type": "markdown",
   "id": "eb3d0c83-c515-4e00-b67e-8bcac8493858",
   "metadata": {},
   "source": [
    "I can see that the function works up to a point, but struggles to place some names, presumably because it doesn't know to loop 13 etc. back to 0"
   ]
  },
  {
   "cell_type": "code",
   "execution_count": 47,
   "id": "91dae5d2-d394-43f1-b0c5-4765c404891d",
   "metadata": {},
   "outputs": [
    {
     "data": {
      "text/plain": [
       "['0',\n",
       " 'Teseb',\n",
       " '0',\n",
       " 'Xenna',\n",
       " 'Onets',\n",
       " 'Ebyam',\n",
       " 'Yrovi',\n",
       " 'Lizuf',\n",
       " 'Yojne',\n",
       " 'Girnu',\n",
       " 'Skcaw',\n",
       " '0']"
      ]
     },
     "execution_count": 47,
     "metadata": {},
     "output_type": "execute_result"
    }
   ],
   "source": [
    "set_table(['Skcaw', 'Teseb', 'Onets', 'Lizuf', 'Ebyam', 'Yojne', 'Yrovi', 'Xenna', 'Girnu'])"
   ]
  },
  {
   "cell_type": "markdown",
   "id": "b9c2092e-de77-44fe-aa7b-0e0c71e0de4c",
   "metadata": {},
   "source": [
    "Since the seating is a square and not a list with a range (0,11), I need to loop values of -1 back to 11 and 13 back to 0, etc."
   ]
  },
  {
   "cell_type": "code",
   "execution_count": 38,
   "id": "dfa16a09-2e7d-4371-8987-9a136e64dc8f",
   "metadata": {},
   "outputs": [
    {
     "data": {
      "text/plain": [
       "['Q', '0', '0', '0', '0', '0', '0', '0', '0', '0', '0', 'Q']"
      ]
     },
     "execution_count": 38,
     "metadata": {},
     "output_type": "execute_result"
    }
   ],
   "source": [
    "def set_table(the_dead):\n",
    "    \n",
    "    earth = \"QUTHCRDMZ\"\n",
    "    water = \"WEVOXING\"\n",
    "    fire = \"JFABKPLY\"\n",
    "    window = \"SSSSSSSSS\"\n",
    "    # assigning the seating to initially be zeroes, which I can check against\n",
    "    seating = ['0'] * 12\n",
    "\n",
    "    if len(the_dead) < 19: # a list with no items will automatically give an error\n",
    "        for i in range(len(the_dead)):\n",
    "            # creating a value to store the ideal seat based on first letter in name\n",
    "            # this will be updated based on whether the seat is filled\n",
    "            seat = _\n",
    "            if the_dead[i][0] in earth:\n",
    "                seat = 0\n",
    "            elif the_dead[i][0] in water:\n",
    "                seat = 3\n",
    "            elif the_dead[i][0] in fire:\n",
    "                seat = 6\n",
    "            elif the_dead[i][0] in window:\n",
    "                seat = 9\n",
    "            else:\n",
    "                # make sure the name actually starts with a letter\n",
    "                return \"Error\"\n",
    "\n",
    "\n",
    "            if seating[seat] == '0': # if the preferred seat is == 0 i.e. empty\n",
    "                    seating[seat] = the_dead[i] # assign that name to the empty seat\n",
    "            else: \n",
    "                seated = 0 # they haven't been seated yet\n",
    "                dist = 0\n",
    "                while seated == 0: # keep trying to seat them until they have been seated\n",
    "                    dist += 1 # update the counter for each failed seating attempt\n",
    "\n",
    "                    # looping around so that seats above 11 or below 0\n",
    "                    if seat - dist < 0: # allow non-existent 0 or negative seats to loop back to 12, 11, etc.\n",
    "                        n = abs((seat - dist)//12) # find how many times around it's looped\n",
    "                        seat += n*12 \n",
    "                    if seat + dist > 11: # allow non-existent seats 13, 14 etc. to loop back to 1, 2 . . . \n",
    "                        n = (seat + dist)//12\n",
    "                        seat -= n*12\n",
    "\n",
    "\n",
    "                    # attempt to seat ghosts first counterclockwise, then clockwise. If neither works, continue loop\n",
    "                    if seating[seat - dist] == '0': # if the counter-clockwise seat is not filled\n",
    "                        seating[seat - dist] = the_dead[i] # assign that name to the empty seat\n",
    "                        seated = 1 # stop the loop; the ghost has been seated\n",
    "                    elif seating[seat + dist] == '0': # if the clockwise seat is not filled\n",
    "                        seating[seat + dist] = the_dead[i]\n",
    "                        seated = 1\n",
    "                    \n",
    "    else:\n",
    "        return \"Error\"\n",
    "\n",
    "    return seating\n",
    "\n",
    "set_table(['Q','Q'])"
   ]
  },
  {
   "cell_type": "code",
   "execution_count": 36,
   "id": "c3f3106f-c7dd-407b-9c3c-b2553c5d7d7b",
   "metadata": {},
   "outputs": [
    {
     "data": {
      "text/plain": [
       "['Teseb',\n",
       " 'Girnu',\n",
       " 'Ebyam',\n",
       " 'Onets',\n",
       " 'Xenna',\n",
       " 'Yojne',\n",
       " 'Lizuf',\n",
       " 'Yrovi',\n",
       " 'Ycuag',\n",
       " 'Skcaw',\n",
       " 'Verap',\n",
       " 'Tpets']"
      ]
     },
     "execution_count": 36,
     "metadata": {},
     "output_type": "execute_result"
    }
   ],
   "source": [
    "set_table(['Skcaw', 'Teseb', 'Onets', 'Lizuf', 'Ebyam', 'Yojne', 'Yrovi', 'Xenna', 'Girnu', 'Ycuag', 'Tpets', 'Verap'])"
   ]
  },
  {
   "cell_type": "markdown",
   "id": "f77e0c09-1b48-4694-ae9a-786e8a2d4f8b",
   "metadata": {},
   "source": [
    "This works, but I haven't taken into account what to do if there aren't enough names present, and I don't think my function knows what to do if more than 12 names are present. I think it'll just keep looping indefinitely since the while loop won't ever break."
   ]
  },
  {
   "cell_type": "code",
   "execution_count": 39,
   "id": "741b22ea-db59-48a2-8e19-426a3238389e",
   "metadata": {},
   "outputs": [
    {
     "data": {
      "text/plain": [
       "['Teseb',\n",
       " 'Girnu',\n",
       " 'Ebyam',\n",
       " 'Onets',\n",
       " 'Xenna',\n",
       " 'Yojne',\n",
       " 'Lizuf',\n",
       " 'Ycuag',\n",
       " '0',\n",
       " 'Skcaw',\n",
       " 'Verap',\n",
       " 'Tpets']"
      ]
     },
     "execution_count": 39,
     "metadata": {},
     "output_type": "execute_result"
    }
   ],
   "source": [
    "set_table(['Skcaw', 'Teseb', 'Onets', 'Lizuf', 'Ebyam', 'Yojne', 'Xenna', 'Girnu', 'Ycuag', 'Tpets', 'Verap'])"
   ]
  },
  {
   "cell_type": "code",
   "execution_count": 40,
   "id": "8d36adfd-8322-48e5-9f35-c680f62ba82f",
   "metadata": {},
   "outputs": [
    {
     "ename": "IndexError",
     "evalue": "list index out of range",
     "output_type": "error",
     "traceback": [
      "\u001b[1;31m---------------------------------------------------------------------------\u001b[0m",
      "\u001b[1;31mIndexError\u001b[0m                                Traceback (most recent call last)",
      "Cell \u001b[1;32mIn[40], line 1\u001b[0m\n\u001b[1;32m----> 1\u001b[0m \u001b[43mset_table\u001b[49m\u001b[43m(\u001b[49m\u001b[43m[\u001b[49m\u001b[38;5;124;43m'\u001b[39;49m\u001b[38;5;124;43mSkcaw\u001b[39;49m\u001b[38;5;124;43m'\u001b[39;49m\u001b[43m,\u001b[49m\u001b[43m \u001b[49m\u001b[38;5;124;43m'\u001b[39;49m\u001b[38;5;124;43mTeseb\u001b[39;49m\u001b[38;5;124;43m'\u001b[39;49m\u001b[43m,\u001b[49m\u001b[43m \u001b[49m\u001b[38;5;124;43m'\u001b[39;49m\u001b[38;5;124;43mOnets\u001b[39;49m\u001b[38;5;124;43m'\u001b[39;49m\u001b[43m,\u001b[49m\u001b[43m \u001b[49m\u001b[38;5;124;43m'\u001b[39;49m\u001b[38;5;124;43mLizuf\u001b[39;49m\u001b[38;5;124;43m'\u001b[39;49m\u001b[43m,\u001b[49m\u001b[43m \u001b[49m\u001b[38;5;124;43m'\u001b[39;49m\u001b[38;5;124;43mEbyam\u001b[39;49m\u001b[38;5;124;43m'\u001b[39;49m\u001b[43m,\u001b[49m\u001b[43m \u001b[49m\u001b[38;5;124;43m'\u001b[39;49m\u001b[38;5;124;43mYojne\u001b[39;49m\u001b[38;5;124;43m'\u001b[39;49m\u001b[43m,\u001b[49m\u001b[43m \u001b[49m\u001b[38;5;124;43m'\u001b[39;49m\u001b[38;5;124;43mXenna\u001b[39;49m\u001b[38;5;124;43m'\u001b[39;49m\u001b[43m,\u001b[49m\u001b[43m \u001b[49m\u001b[38;5;124;43m'\u001b[39;49m\u001b[38;5;124;43mGirnu\u001b[39;49m\u001b[38;5;124;43m'\u001b[39;49m\u001b[43m,\u001b[49m\u001b[43m \u001b[49m\u001b[38;5;124;43m'\u001b[39;49m\u001b[38;5;124;43mYcuag\u001b[39;49m\u001b[38;5;124;43m'\u001b[39;49m\u001b[43m,\u001b[49m\u001b[43m \u001b[49m\u001b[38;5;124;43m'\u001b[39;49m\u001b[38;5;124;43mTpets\u001b[39;49m\u001b[38;5;124;43m'\u001b[39;49m\u001b[43m,\u001b[49m\u001b[43m \u001b[49m\u001b[38;5;124;43m'\u001b[39;49m\u001b[38;5;124;43mVerap\u001b[39;49m\u001b[38;5;124;43m'\u001b[39;49m\u001b[43m,\u001b[49m\u001b[38;5;124;43m'\u001b[39;49m\u001b[38;5;124;43mEXTRA\u001b[39;49m\u001b[38;5;124;43m'\u001b[39;49m\u001b[43m,\u001b[49m\u001b[38;5;124;43m'\u001b[39;49m\u001b[38;5;124;43mEXTRA\u001b[39;49m\u001b[38;5;124;43m'\u001b[39;49m\u001b[43m]\u001b[49m\u001b[43m)\u001b[49m\n",
      "Cell \u001b[1;32mIn[38], line 46\u001b[0m, in \u001b[0;36mset_table\u001b[1;34m(the_dead)\u001b[0m\n\u001b[0;32m     42\u001b[0m     seat \u001b[38;5;241m-\u001b[39m\u001b[38;5;241m=\u001b[39m n\u001b[38;5;241m*\u001b[39m\u001b[38;5;241m12\u001b[39m\n\u001b[0;32m     45\u001b[0m \u001b[38;5;66;03m# attempt to seat ghosts first counterclockwise, then clockwise. If neither works, continue loop\u001b[39;00m\n\u001b[1;32m---> 46\u001b[0m \u001b[38;5;28;01mif\u001b[39;00m \u001b[43mseating\u001b[49m\u001b[43m[\u001b[49m\u001b[43mseat\u001b[49m\u001b[43m \u001b[49m\u001b[38;5;241;43m-\u001b[39;49m\u001b[43m \u001b[49m\u001b[43mdist\u001b[49m\u001b[43m]\u001b[49m \u001b[38;5;241m==\u001b[39m \u001b[38;5;124m'\u001b[39m\u001b[38;5;124m0\u001b[39m\u001b[38;5;124m'\u001b[39m: \u001b[38;5;66;03m# if the counter-clockwise seat is not filled\u001b[39;00m\n\u001b[0;32m     47\u001b[0m     seating[seat \u001b[38;5;241m-\u001b[39m dist] \u001b[38;5;241m=\u001b[39m the_dead[i] \u001b[38;5;66;03m# assign that name to the empty seat\u001b[39;00m\n\u001b[0;32m     48\u001b[0m     seated \u001b[38;5;241m=\u001b[39m \u001b[38;5;241m1\u001b[39m \u001b[38;5;66;03m# stop the loop; the ghost has been seated\u001b[39;00m\n",
      "\u001b[1;31mIndexError\u001b[0m: list index out of range"
     ]
    }
   ],
   "source": [
    "set_table(['Skcaw', 'Teseb', 'Onets', 'Lizuf', 'Ebyam', 'Yojne', 'Xenna', 'Girnu', 'Ycuag', 'Tpets', 'Verap','EXTRA','EXTRA'])"
   ]
  },
  {
   "cell_type": "markdown",
   "id": "81896608-f658-4e87-bdf5-ed0c7c823100",
   "metadata": {},
   "source": [
    "Ok, so it'll just give an error."
   ]
  },
  {
   "cell_type": "markdown",
   "id": "d49e4693-79fd-4182-b545-6527666b338b",
   "metadata": {},
   "source": [
    "Both of these fixes are very simple. I'll change the default in the set_table list to be the five underscores, and I'll automatically shorten all lists of items longer than 12 to only include the first 12:"
   ]
  },
  {
   "cell_type": "code",
   "execution_count": 59,
   "id": "7e6833bb-6d84-4ae9-ac3b-4646574910f8",
   "metadata": {},
   "outputs": [
    {
     "data": {
      "text/plain": [
       "['Q',\n",
       " '_____',\n",
       " '_____',\n",
       " '_____',\n",
       " '_____',\n",
       " '_____',\n",
       " '_____',\n",
       " '_____',\n",
       " '_____',\n",
       " '_____',\n",
       " '_____',\n",
       " 'Q']"
      ]
     },
     "execution_count": 59,
     "metadata": {},
     "output_type": "execute_result"
    }
   ],
   "source": [
    "def set_table(the_dead):\n",
    "    \n",
    "    earth = \"QUTHCRDMZ\"\n",
    "    water = \"WEVOXING\"\n",
    "    fire = \"JFABKPLY\"\n",
    "    window = \"SSSSSSSSS\"\n",
    "    # assigning the seating to initially be zeroes, which I can check against\n",
    "    seating = ['_____'] * 12\n",
    "\n",
    "    if len(the_dead) < 19: \n",
    "        the_dead = the_dead[:12]\n",
    "    for i in range(len(the_dead)):\n",
    "        # creating a value to store the ideal seat based on first letter in name\n",
    "        # this will be updated based on whether the seat is filled\n",
    "        seat = 0\n",
    "        if the_dead[i][0] in earth:\n",
    "            seat = 0\n",
    "        elif the_dead[i][0] in water:\n",
    "            seat = 3\n",
    "        elif the_dead[i][0] in fire:\n",
    "            seat = 6\n",
    "        elif the_dead[i][0] in window:\n",
    "            seat = 9\n",
    "        else:\n",
    "            # make sure the name actually starts with a letter\n",
    "            return \"Error\"\n",
    "\n",
    "\n",
    "        if seating[seat] == '_____': # if the preferred seat is == 0 i.e. empty\n",
    "                seating[seat] = the_dead[i] # assign that name to the empty seat\n",
    "        else: \n",
    "            seated = 0 # they haven't been seated yet\n",
    "            dist = 0\n",
    "            while seated == 0: # keep trying to seat them until they have been seated\n",
    "                dist += 1 # update the counter for each failed seating attempt\n",
    "\n",
    "                # looping around so that seats above 11 or below 0\n",
    "                if seat - dist < 0: # allow non-existent 0 or negative seats to loop back to 12, 11, etc.\n",
    "                    n = abs((seat - dist)//12) # find how many times around it's looped\n",
    "                    seat += n*12 \n",
    "                if seat + dist > 11: # allow non-existent seats 13, 14 etc. to loop back to 1, 2 . . . \n",
    "                    n = (seat + dist)//12\n",
    "                    seat -= n*12\n",
    "\n",
    "\n",
    "                # attempt to seat ghosts first counterclockwise, then clockwise. If neither works, continue loop\n",
    "                if seating[seat - dist] == '_____': # if the counter-clockwise seat is not filled\n",
    "                    seating[seat - dist] = the_dead[i] # assign that name to the empty seat\n",
    "                    seated = 1 # stop the loop; the ghost has been seated\n",
    "                elif seating[seat + dist] == '_____': # if the clockwise seat is not filled\n",
    "                    seating[seat + dist] = the_dead[i]\n",
    "                    seated = 1\n",
    "\n",
    "    return seating\n",
    "\n",
    "set_table(['Q','Q'])"
   ]
  },
  {
   "cell_type": "code",
   "execution_count": 58,
   "id": "4cfbe23e-2f8c-4eb3-8040-550334ac7990",
   "metadata": {},
   "outputs": [
    {
     "data": {
      "text/plain": [
       "['Teseb',\n",
       " 'Girnu',\n",
       " 'Ebyam',\n",
       " 'Onets',\n",
       " 'Xenna',\n",
       " 'Yojne',\n",
       " 'Lizuf',\n",
       " 'Yrovi',\n",
       " 'Ycuag',\n",
       " 'Skcaw',\n",
       " 'Verap',\n",
       " 'Tpets']"
      ]
     },
     "execution_count": 58,
     "metadata": {},
     "output_type": "execute_result"
    }
   ],
   "source": [
    "set_table(['Skcaw', 'Teseb', 'Onets', 'Lizuf', 'Ebyam', 'Yojne', 'Yrovi', 'Xenna', 'Girnu', 'Ycuag', 'Tpets', 'Verap'])"
   ]
  },
  {
   "cell_type": "markdown",
   "id": "d55bf590-c7f4-4cb2-b1de-f0d741d74263",
   "metadata": {},
   "source": [
    "This version works. "
   ]
  },
  {
   "cell_type": "code",
   "execution_count": null,
   "id": "6531a25a-9b58-40b7-8103-84d6d2d2eab7",
   "metadata": {},
   "outputs": [],
   "source": []
  }
 ],
 "metadata": {
  "kernelspec": {
   "display_name": "Python 3 (ipykernel)",
   "language": "python",
   "name": "python3"
  },
  "language_info": {
   "codemirror_mode": {
    "name": "ipython",
    "version": 3
   },
   "file_extension": ".py",
   "mimetype": "text/x-python",
   "name": "python",
   "nbconvert_exporter": "python",
   "pygments_lexer": "ipython3",
   "version": "3.10.9"
  }
 },
 "nbformat": 4,
 "nbformat_minor": 5
}
