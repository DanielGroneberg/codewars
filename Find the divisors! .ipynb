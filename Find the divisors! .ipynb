{
 "cells": [
  {
   "cell_type": "markdown",
   "id": "40262c6d",
   "metadata": {},
   "source": [
    "https://www.codewars.com/kata/544aed4c4a30184e960010f4/train/python\n",
    "by: kwy95"
   ]
  },
  {
   "cell_type": "markdown",
   "id": "72769f31",
   "metadata": {},
   "source": [
    "Create a function named divisors/Divisors that takes an integer n > 1 and returns an array with all of the integer's divisors(except for 1 and the number itself), from smallest to largest. If the number is prime return the string '(integer) is prime' (null in C#, empty table in COBOL) (use Either String a in Haskell and Result<Vec<u32>, String> in Rust)."
   ]
  },
  {
   "cell_type": "markdown",
   "id": "45ecac2b",
   "metadata": {},
   "source": [
    "Example:\n",
    "\n",
    "    divisors(12); #should return [2,3,4,6]\n",
    "    divisors(25); #should return [5]"
   ]
  },
  {
   "cell_type": "code",
   "execution_count": 6,
   "id": "e43b6d22",
   "metadata": {},
   "outputs": [
    {
     "data": {
      "text/plain": [
       "0"
      ]
     },
     "execution_count": 6,
     "metadata": {},
     "output_type": "execute_result"
    }
   ],
   "source": [
    "12%6"
   ]
  },
  {
   "cell_type": "code",
   "execution_count": 7,
   "id": "7f1ef812",
   "metadata": {},
   "outputs": [
    {
     "data": {
      "text/plain": [
       "2"
      ]
     },
     "execution_count": 7,
     "metadata": {},
     "output_type": "execute_result"
    }
   ],
   "source": [
    "12%5"
   ]
  },
  {
   "cell_type": "code",
   "execution_count": 17,
   "id": "136be9d5",
   "metadata": {},
   "outputs": [
    {
     "data": {
      "text/plain": [
       "[5]"
      ]
     },
     "execution_count": 17,
     "metadata": {},
     "output_type": "execute_result"
    }
   ],
   "source": [
    "def divisors(number):\n",
    "    divisor = []\n",
    "    for num in range(2, number):\n",
    "        if number%num == 0:\n",
    "            divisor.append(num)\n",
    "        elif number%num != 0:\n",
    "            pass\n",
    "        else:\n",
    "            print(f\"problem with: {num}\")\n",
    "    if len(divisor) > 0:\n",
    "        return divisor\n",
    "    else:\n",
    "        return f\"{number} is prime\"\n",
    "divisors(25)"
   ]
  },
  {
   "cell_type": "code",
   "execution_count": 14,
   "id": "318c2340",
   "metadata": {},
   "outputs": [
    {
     "data": {
      "text/plain": [
       "[5]"
      ]
     },
     "execution_count": 14,
     "metadata": {},
     "output_type": "execute_result"
    }
   ],
   "source": [
    "divisors(25)"
   ]
  }
 ],
 "metadata": {
  "kernelspec": {
   "display_name": "Python 3 (ipykernel)",
   "language": "python",
   "name": "python3"
  },
  "language_info": {
   "codemirror_mode": {
    "name": "ipython",
    "version": 3
   },
   "file_extension": ".py",
   "mimetype": "text/x-python",
   "name": "python",
   "nbconvert_exporter": "python",
   "pygments_lexer": "ipython3",
   "version": "3.8.0"
  }
 },
 "nbformat": 4,
 "nbformat_minor": 5
}
