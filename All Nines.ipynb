{
 "cells": [
  {
   "cell_type": "markdown",
   "id": "f5362927-1153-42c7-b352-62c14999037a",
   "metadata": {},
   "source": [
    "https://www.codewars.com/kata/664b9dd610985cc3b6784111\n",
    "\n",
    "Task\n",
    "\n",
    "Given any positive integer x ≤ 4000, find the smallest positive integer m such that mx consists of all 9's. Return -1 if no such m exists.\n",
    "Examples:\n",
    "\n",
    "all_nines(11) -> 9, because 11*9 = 99.\n",
    "\n",
    "all_nines(12) -> -1, because 12 is even, so no multiple of it can be all 9's.\n",
    "\n",
    "all_nines(13) -> 76923, because 13*76923 = 999999, and no smaller positive integer, when multiplied by 13, generates an integer containing only 9's.\n",
    "\n",
    "NOTE: Although x ≤ 4000, m can be very very LARGE. Where necessary, the way of handling big integers appropriate to the language should be used.\n"
   ]
  },
  {
   "cell_type": "markdown",
   "id": "0d753132-9e0f-43fb-b7fb-0a88ed88bd11",
   "metadata": {},
   "source": [
    "----------------\n",
    "\n",
    "So basically:\n",
    "\n",
    "`input * (m) = string containing only the number 9`\n",
    "\n",
    "`return smallest value of m`\n",
    "\n",
    "`else return -1`"
   ]
  },
  {
   "cell_type": "markdown",
   "id": "69cfe5c2-ae97-48f3-855f-4a02a996fed2",
   "metadata": {},
   "source": [
    "I'm going to try this using a loop within the range 1 to 4,000, stopping when a result is found where the output is only 9s. This should be\n",
    "relatively efficent.\n",
    "\n",
    "One interesting and unique feature about strings with only 9s is that adding 1 will always result in the string being exactly 1 unit longer, i.e. 99 has a length of 2, and 100 has a length of 3. This seems like the easiest way to check."
   ]
  },
  {
   "cell_type": "code",
   "execution_count": 19,
   "id": "a37a4dc5-4f8b-4c7f-80c5-f5916a14653d",
   "metadata": {},
   "outputs": [
    {
     "data": {
      "text/plain": [
       "9"
      ]
     },
     "execution_count": 19,
     "metadata": {},
     "output_type": "execute_result"
    }
   ],
   "source": [
    "def all_nines(input):\n",
    "    for m in range(0,4001):\n",
    "        string = input * m\n",
    "        if len(str(string)) < len(str(string + 1)):\n",
    "            return m            \n",
    "        else:\n",
    "            pass\n",
    "\n",
    "all_nines(11)"
   ]
  },
  {
   "cell_type": "code",
   "execution_count": 20,
   "id": "fec359de-e2bd-4cfd-b0a2-acb54fc762d9",
   "metadata": {},
   "outputs": [],
   "source": [
    "all_nines(13)"
   ]
  },
  {
   "cell_type": "markdown",
   "id": "647f4a7c-23bd-44e5-973e-918d97036d80",
   "metadata": {},
   "source": [
    "all_nines(13) -> 76923, because 13*76923 = 999999, and no smaller positive integer, when multiplied by 13, generates an integer containing only 9's.\n",
    "\n",
    "This is what I don't understand. 76,923 is larger than 4,000, so why is it being used as a value for x?"
   ]
  },
  {
   "cell_type": "markdown",
   "id": "201e7d5b-69ed-40b6-a6c2-570f91ba5fa4",
   "metadata": {},
   "source": [
    "Oh, I was fundamentally misunderstanding the problem. It's:\n",
    "\n",
    "x = input. x must be < 4001\n",
    "m = output. There is no limit to m, i.e. m can be 76,923\n",
    "\n",
    "m*x = string with only 9s.\n"
   ]
  },
  {
   "cell_type": "code",
   "execution_count": 37,
   "id": "f0800f7e-0fc2-4f52-a3bd-c91604875f5b",
   "metadata": {},
   "outputs": [
    {
     "data": {
      "text/plain": [
       "9"
      ]
     },
     "execution_count": 37,
     "metadata": {},
     "output_type": "execute_result"
    }
   ],
   "source": [
    "def all_nines(x):\n",
    "    # first, check that x is within the correct range\n",
    "    if x < 4001:\n",
    "        # create a counter\n",
    "        m = 1\n",
    "        # if adding 1 to the product of m*x doesn't add a decimal place, i.e 98+1 = 99,\n",
    "        # the product doesn't contain all 9s.\n",
    "        # continue the loop until this is the case\n",
    "        while len(str(m * x)) == len(str((m * x) + 1)):\n",
    "            m += 1\n",
    "        return m\n",
    "    else:\n",
    "        return \"error\"\n",
    "        \n",
    "all_nines(11)"
   ]
  },
  {
   "cell_type": "code",
   "execution_count": 38,
   "id": "d17877b9-17ad-4866-aaaa-ccfe262da26f",
   "metadata": {},
   "outputs": [
    {
     "data": {
      "text/plain": [
       "76923"
      ]
     },
     "execution_count": 38,
     "metadata": {},
     "output_type": "execute_result"
    }
   ],
   "source": [
    "all_nines(13)"
   ]
  },
  {
   "cell_type": "markdown",
   "id": "b76a03f4-e16d-4f08-a5ec-026eed2dcae0",
   "metadata": {},
   "source": [
    "This is now fundamentally working, I just need to find a way to deal with numbers like 12 which will never produce a string with all 9s. I could create some sort of break within the while loop so that it doesn't run for infinity? Or I could try to find conditions of x where this is problematic, i.e. even numbers?"
   ]
  },
  {
   "cell_type": "code",
   "execution_count": 48,
   "id": "119c62fc-f0b2-4658-ba6b-7b8559528001",
   "metadata": {},
   "outputs": [
    {
     "data": {
      "text/plain": [
       "0"
      ]
     },
     "execution_count": 48,
     "metadata": {},
     "output_type": "execute_result"
    }
   ],
   "source": [
    "4%2"
   ]
  },
  {
   "cell_type": "code",
   "execution_count": 53,
   "id": "1cbc1d5a-95fe-45a6-95f5-dbf9110a205e",
   "metadata": {},
   "outputs": [
    {
     "data": {
      "text/plain": [
       "-1"
      ]
     },
     "execution_count": 53,
     "metadata": {},
     "output_type": "execute_result"
    }
   ],
   "source": [
    "def all_nines(x):\n",
    "    # first, check that x is within the correct range\n",
    "    if x < 4001:\n",
    "        # check that x is an odd number\n",
    "        if x % 2 == 1:\n",
    "            # create a counter\n",
    "            m = 1\n",
    "            # if adding 1 to the product of m*x doesn't add a decimal place, i.e 98+1 = 99,\n",
    "            # the product doesn't contain all 9s.\n",
    "            # continue the loop until this is the case\n",
    "            while len(str(m * x)) == len(str((m * x) + 1)):\n",
    "                m += 1\n",
    "            return m\n",
    "        else:\n",
    "            return -1\n",
    "    else:\n",
    "        return \"error\"\n",
    "        \n",
    "all_nines(12)"
   ]
  },
  {
   "cell_type": "code",
   "execution_count": 51,
   "id": "283281a7-92e1-4b91-8fb6-102c9b7e80fd",
   "metadata": {},
   "outputs": [
    {
     "data": {
      "text/plain": [
       "813"
      ]
     },
     "execution_count": 51,
     "metadata": {},
     "output_type": "execute_result"
    }
   ],
   "source": [
    "all_nines(123)"
   ]
  },
  {
   "cell_type": "markdown",
   "id": "f3c6885e-11e5-4ce8-8461-6894873f5dd7",
   "metadata": {},
   "source": [
    "This seems to work?"
   ]
  },
  {
   "cell_type": "markdown",
   "id": "333e2141-2d92-4f09-9b8f-5a38ea16b828",
   "metadata": {},
   "source": [
    "`all_nines(3989)`"
   ]
  },
  {
   "cell_type": "markdown",
   "id": "60d76ddc-8500-44b7-a422-54597ce671b0",
   "metadata": {},
   "source": [
    "I think this would probably eventually calcualte, but it's not being handled efficently."
   ]
  },
  {
   "cell_type": "markdown",
   "id": "26299a24-e166-4b6d-90d7-91fe79250d5a",
   "metadata": {},
   "source": [
    "\"NOTE: Although x ≤ 4000, m can be very very LARGE. Where necessary, the way of handling big integers appropriate to the language should be used.\n",
    "\""
   ]
  },
  {
   "cell_type": "markdown",
   "id": "775f5ca6-5e72-4924-8492-9b4e6469f7cb",
   "metadata": {},
   "source": []
  }
 ],
 "metadata": {
  "kernelspec": {
   "display_name": "Python 3 (ipykernel)",
   "language": "python",
   "name": "python3"
  },
  "language_info": {
   "codemirror_mode": {
    "name": "ipython",
    "version": 3
   },
   "file_extension": ".py",
   "mimetype": "text/x-python",
   "name": "python",
   "nbconvert_exporter": "python",
   "pygments_lexer": "ipython3",
   "version": "3.10.9"
  }
 },
 "nbformat": 4,
 "nbformat_minor": 5
}
