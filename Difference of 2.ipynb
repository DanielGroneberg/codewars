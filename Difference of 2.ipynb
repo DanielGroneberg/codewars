{
 "cells": [
  {
   "cell_type": "markdown",
   "id": "84c250a8-270b-4b6b-bb7a-4ba64657bf2f",
   "metadata": {},
   "source": [
    "The objective is to return all pairs of integers from a given array of integers that have a difference of 2.\n",
    "\n",
    "The result array should be sorted in ascending order of values.\n",
    "\n",
    "Assume there are no duplicate integers in the array. The order of the integers in the input array should not matter.\n",
    "Examples\n",
    "\n",
    "[1, 2, 3, 4]  should return [(1, 3), (2, 4)]\n",
    "\n",
    "[4, 1, 2, 3]  should also return [(1, 3), (2, 4)]\n",
    "\n",
    "[1, 23, 3, 4, 7] should return [(1, 3)]\n",
    "\n",
    "[4, 3, 1, 5, 6] should return [(1, 3), (3, 5), (4, 6)]\n",
    "\n"
   ]
  },
  {
   "cell_type": "markdown",
   "id": "456a1135-ae86-414c-9d18-4f9579043d8c",
   "metadata": {},
   "source": [
    "----\n",
    "This is pretty similar to a different challenge I completed."
   ]
  },
  {
   "cell_type": "markdown",
   "id": "99bc7eed-2247-4068-8aac-4b9e625796da",
   "metadata": {},
   "source": [
    "In the array [`1,2,3,4]` I'll iterate starting with 1, and finding the difference between `1` and `2`, `3` . . . but when I move on to starting to iterate with `2`, I don't need to go back and find the difference with `1` since that's redundant. I only need to find the difference with `3` and `4`. I don't need to have `4` as the starting point at all. So, if the difference is `ai - aj` I only need values of `a` in the range `[0:-1]`, and values of `j` in the range `[i+1:]`\n",
    "\n",
    "There might be a more efficent approach, but this is what I'll do:"
   ]
  },
  {
   "cell_type": "code",
   "execution_count": 25,
   "id": "486bdda9-1a88-4476-9708-1d5d1d1f6991",
   "metadata": {},
   "outputs": [],
   "source": [
    "def twos_difference(lst):\n",
    "    twos = []\n",
    "    for i in range(len(lst)-1):\n",
    "        for j in range(i,len(lst)):\n",
    "            if abs(lst[i] - lst[j]) == 2:\n",
    "                twos.append((lst[i],lst[j]))\n",
    "    return twos"
   ]
  },
  {
   "cell_type": "code",
   "execution_count": 26,
   "id": "ba6fbd65-4a80-40bf-8892-883f87ec4e55",
   "metadata": {},
   "outputs": [
    {
     "data": {
      "text/plain": [
       "[(1, 3), (2, 4)]"
      ]
     },
     "execution_count": 26,
     "metadata": {},
     "output_type": "execute_result"
    }
   ],
   "source": [
    "twos_difference([1, 2, 3, 4])"
   ]
  },
  {
   "cell_type": "code",
   "execution_count": 22,
   "id": "1aa28346-510b-46a5-9205-a372e3410598",
   "metadata": {},
   "outputs": [
    {
     "data": {
      "text/plain": [
       "[(1, 3)]"
      ]
     },
     "execution_count": 22,
     "metadata": {},
     "output_type": "execute_result"
    }
   ],
   "source": [
    "twos_difference([1, 23, 3, 4, 7])"
   ]
  },
  {
   "cell_type": "markdown",
   "id": "40992429-2e9f-46a7-80b0-cd8f4c2cdfe9",
   "metadata": {},
   "source": [
    "The only problem now is that the items within each tuple need to be sorted."
   ]
  },
  {
   "cell_type": "code",
   "execution_count": 14,
   "id": "dce79365-3161-49c5-8947-a4513733d163",
   "metadata": {},
   "outputs": [
    {
     "data": {
      "text/plain": [
       "[(3, 1)]"
      ]
     },
     "execution_count": 14,
     "metadata": {},
     "output_type": "execute_result"
    }
   ],
   "source": [
    "twos_difference([3, 1])"
   ]
  },
  {
   "cell_type": "code",
   "execution_count": 126,
   "id": "5c621ce9-74b8-4b69-9600-223b6f80b26f",
   "metadata": {},
   "outputs": [],
   "source": [
    "def twos_difference(lst):\n",
    "    twos = []\n",
    "    for i in range(len(lst)-1):\n",
    "        for j in range(i,len(lst)):\n",
    "            if abs(lst[i] - lst[j]) == 2:\n",
    "                twos.append([(lst[i],lst[j]) if lst[i] < lst[j] else (lst[j],lst[i])][0])\n",
    "    return twos"
   ]
  },
  {
   "cell_type": "code",
   "execution_count": 112,
   "id": "063e3ebe-9a4f-4015-981e-a9e79eca3df5",
   "metadata": {},
   "outputs": [
    {
     "data": {
      "text/plain": [
       "[(1, 3)]"
      ]
     },
     "execution_count": 112,
     "metadata": {},
     "output_type": "execute_result"
    }
   ],
   "source": [
    "twos_difference([3, 1])"
   ]
  },
  {
   "cell_type": "code",
   "execution_count": 117,
   "id": "600f7b3a-ac14-4265-80e1-269cb6a2998c",
   "metadata": {},
   "outputs": [
    {
     "data": {
      "text/plain": [
       "[(2, 4), (1, 3)]"
      ]
     },
     "execution_count": 117,
     "metadata": {},
     "output_type": "execute_result"
    }
   ],
   "source": [
    "twos_difference([4, 1, 2, 3])"
   ]
  },
  {
   "cell_type": "markdown",
   "id": "e039bd3f-c1ea-4688-960c-af501f641873",
   "metadata": {},
   "source": [
    "I still need to make sure the items in the list are sorted by the first item in each tuple. The easiest way of doing this will be sorting the initial list since this is what orders the first item in the tuple to begin with."
   ]
  },
  {
   "cell_type": "code",
   "execution_count": 131,
   "id": "e90130b4-5515-4940-8e07-91e3e8fab750",
   "metadata": {},
   "outputs": [],
   "source": [
    "def twos_difference(lst):\n",
    "    twos = []\n",
    "    lst.sort()\n",
    "    for i in range(len(lst)-1):\n",
    "        for j in range(i,len(lst)):\n",
    "            if abs(lst[i] - lst[j]) == 2:\n",
    "                twos.append([(lst[i],lst[j]) if lst[i] < lst[j] else (lst[j],lst[i])][0])\n",
    "    return twos"
   ]
  },
  {
   "cell_type": "code",
   "execution_count": 132,
   "id": "0bf54b72-1789-45e0-9111-90bc47290bf3",
   "metadata": {},
   "outputs": [
    {
     "data": {
      "text/plain": [
       "[(1, 3), (2, 4)]"
      ]
     },
     "execution_count": 132,
     "metadata": {},
     "output_type": "execute_result"
    }
   ],
   "source": [
    "twos_difference([4, 1, 2, 3])"
   ]
  }
 ],
 "metadata": {
  "kernelspec": {
   "display_name": "Python 3 (ipykernel)",
   "language": "python",
   "name": "python3"
  },
  "language_info": {
   "codemirror_mode": {
    "name": "ipython",
    "version": 3
   },
   "file_extension": ".py",
   "mimetype": "text/x-python",
   "name": "python",
   "nbconvert_exporter": "python",
   "pygments_lexer": "ipython3",
   "version": "3.10.9"
  }
 },
 "nbformat": 4,
 "nbformat_minor": 5
}
